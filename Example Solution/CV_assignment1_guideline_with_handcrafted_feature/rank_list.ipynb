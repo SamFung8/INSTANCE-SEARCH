{
 "cells": [
  {
   "cell_type": "markdown",
   "id": "f22e4061",
   "metadata": {},
   "source": [
    "**Simple example for Asg1 with handcrafted feature**\n",
    "\n",
    "An example diagram for instance search.\n",
    "Please read the slide \"Information for Asg1\" first.\n",
    "\n",
    "In every bounding box file (the txt files), each line records the coordinates of one bounding box in format: x of top-left point, y of top-left point, width, height.\n",
    "\n",
    "The bounding box information is only provided for the query images.\n",
    "\n",
    "Notes: it's possible that there are more than one instances in a query image (see the annotation(s) in the corresponding txt file), you should find the most similar image rank list in the gallery by considering all the instances."
   ]
  },
  {
   "cell_type": "code",
   "execution_count": 1,
   "id": "2a23afb4",
   "metadata": {},
   "outputs": [],
   "source": [
    "import numpy as np \n",
    "import cv2 \n",
    "import pandas as pd\n",
    "import glob\n",
    "import time "
   ]
  },
  {
   "cell_type": "markdown",
   "id": "e51e5e91",
   "metadata": {},
   "source": [
    " Download the dataset from this linke [onedrive link](https://portland-my.sharepoint.com/:u:/g/personal/srwang3-c_my_cityu_edu_hk/EZ0BIZatMIJMoiCG4-uy6okBSlXLJD7TUyIDG1lbKUJ0eA?e=lbKz4a).\n",
    "And unzip the downloaded file into some path. \n",
    "> In this tutorial, the path is `/Users/txsing/datasets_4186`, please replace to your own accordingly.\n",
    "\n",
    "Initialize the necessary parameters, including paths, feature extractors."
   ]
  },
  {
   "cell_type": "code",
   "execution_count": 2,
   "id": "61bae164",
   "metadata": {},
   "outputs": [],
   "source": [
    "download_path='/Users/txsing/datasets_4186' # change to your own download path\n",
    "path_query=download_path+'/query_4186'\n",
    "path_query_txt=download_path+'/query_txt_4186'\n",
    "\n",
    "# path_query_txt is the directory to the bounding box information of the instance(s) for the query images\n",
    "path_gallery=download_path+'/gallery_4186'\n",
    "\n",
    "name_query=glob.glob(path_query+'/*.jpg')\n",
    "num_query=len(name_query)\n",
    "name_gallery=glob.glob(path_gallery+'/*.jpg')\n",
    "num_gallery=len(name_gallery)\n",
    "sift = cv2.ORB_create()\n",
    "record_all=np.zeros((num_query,len(name_gallery)))\n",
    "\n",
    "query_imgs_no = [x.split('/')[-1][:-4] for x in glob.glob(path_query+'/*.jpg')]\n",
    "gallery_imgs_no = [x.split('/')[-1][:-4] for x in glob.glob(path_gallery+'/*.jpg')]"
   ]
  },
  {
   "cell_type": "markdown",
   "id": "33233d03",
   "metadata": {},
   "source": [
    "Process\n",
    "\n",
    "Feature extraction -> calculate distance -> compare"
   ]
  },
  {
   "cell_type": "code",
   "execution_count": 3,
   "id": "c2968b28",
   "metadata": {},
   "outputs": [
    {
     "name": "stdout",
     "output_type": "stream",
     "text": [
      "retrieval time for query 2714 is 67.46777582168579s\n",
      "retrieval time for query 776 is 68.39401912689209s\n"
     ]
    }
   ],
   "source": [
    "# the iteration loop for query \n",
    "# iteration times is 2 here, only for the demonstration\n",
    "for i, query_img_no in enumerate(query_imgs_no[0:2]):\n",
    "    time_s = time.time()\n",
    "    dist_record=[]\n",
    "    per_query_name=path_query+'/'+str(query_img_no)+'.jpg'\n",
    "    per_query=cv2.imread(per_query_name)\n",
    "    # feature extraction for per query\n",
    "    # the bounding box information is not considered\n",
    "    # quite naive, just an example\n",
    "    per_query_kp, per_query_des = sift.detectAndCompute(per_query,None)\n",
    "\n",
    "    # the iteration loop for gallery\n",
    "    for j, gallery_img_no in enumerate(gallery_imgs_no):\n",
    "        per_gallery_name = path_gallery+'/'+str(gallery_img_no)+'.jpg'\n",
    "        per_gallery=cv2.imread(per_gallery_name)\n",
    "        # feature extraction for per gallery\n",
    "        per_gallery_kp, per_gallery_des = sift.detectAndCompute(per_gallery,None)\n",
    "        # use part of the features to make the calculation feasible\n",
    "        # quite naive, just an example\n",
    "        min_kp_num=np.amin([len(per_query_kp),len(per_gallery_kp)])\n",
    "        query_part=per_query_des[0:min_kp_num,:]\n",
    "        gallery_part=per_gallery_des[0:min_kp_num,:]\n",
    "        # distance calculation in feature domain (similarity)\n",
    "        dist_record.append(np.sum((np.double(query_part)-np.double(gallery_part))**2)/np.prod(np.shape(query_part)))\n",
    "    # find the indexes with descending similarity order\n",
    "    ascend_index=sorted(range(len(dist_record)), key=lambda k: dist_record[k])\n",
    "    # update the results for one query \n",
    "    record_all[i,:]=ascend_index\n",
    "    time_e = time.time()\n",
    "    print('retrieval time for query {} is {}s'.format(query_img_no, time_e-time_s))"
   ]
  },
  {
   "cell_type": "code",
   "execution_count": 4,
   "id": "9d144784-ddbb-4e0e-b536-54bcfd1e009c",
   "metadata": {},
   "outputs": [
    {
     "name": "stdout",
     "output_type": "stream",
     "text": [
      "For query image No. 2714, the top ranked similar image No. is 448.\n"
     ]
    }
   ],
   "source": [
    "query_idx = 0\n",
    "print(f'For query image No. {query_imgs_no[query_idx]}, the top ranked similar image No. is {gallery_imgs_no[int(record_all[query_idx][-1])]}.')"
   ]
  },
  {
   "cell_type": "markdown",
   "id": "ef9d3349",
   "metadata": {},
   "source": [
    "Output \n",
    "\n",
    "Save the rank list file."
   ]
  },
  {
   "cell_type": "code",
   "execution_count": 5,
   "id": "5e5c8170",
   "metadata": {},
   "outputs": [],
   "source": [
    "# write the output file following the example\n",
    "f=open(r'./rank_list.txt','w')\n",
    "for i in range(num_query):\n",
    "    f.write('Q'+str(i+1)+': ')\n",
    "    for j in range(len(name_gallery)):\n",
    "        f.write(str(np.int32(record_all[i,j]))+' ')\n",
    "    f.write('\\n')\n",
    "f.close()"
   ]
  }
 ],
 "metadata": {
  "kernelspec": {
   "display_name": "Python 3",
   "language": "python",
   "name": "python3"
  },
  "language_info": {
   "codemirror_mode": {
    "name": "ipython",
    "version": 3
   },
   "file_extension": ".py",
   "mimetype": "text/x-python",
   "name": "python",
   "nbconvert_exporter": "python",
   "pygments_lexer": "ipython3",
   "version": "3.8.5"
  }
 },
 "nbformat": 4,
 "nbformat_minor": 5
}
